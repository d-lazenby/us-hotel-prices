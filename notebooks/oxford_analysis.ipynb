{
 "cells": [
  {
   "cell_type": "code",
   "execution_count": 1,
   "metadata": {},
   "outputs": [],
   "source": [
    "from src.paths import OXFORD_DATA_DIR\n",
    "\n",
    "import pandas as pd\n",
    "import numpy as np\n",
    "import matplotlib.pyplot as plt"
   ]
  },
  {
   "cell_type": "code",
   "execution_count": 2,
   "metadata": {},
   "outputs": [
    {
     "data": {
      "text/html": [
       "<div>\n",
       "<style scoped>\n",
       "    .dataframe tbody tr th:only-of-type {\n",
       "        vertical-align: middle;\n",
       "    }\n",
       "\n",
       "    .dataframe tbody tr th {\n",
       "        vertical-align: top;\n",
       "    }\n",
       "\n",
       "    .dataframe thead th {\n",
       "        text-align: right;\n",
       "    }\n",
       "</style>\n",
       "<table border=\"1\" class=\"dataframe\">\n",
       "  <thead>\n",
       "    <tr style=\"text-align: right;\">\n",
       "      <th></th>\n",
       "      <th>Lower tier local authorities Code</th>\n",
       "      <th>Lower tier local authorities</th>\n",
       "      <th>Age (101 categories) Code</th>\n",
       "      <th>Age (101 categories)</th>\n",
       "      <th>Observation</th>\n",
       "    </tr>\n",
       "  </thead>\n",
       "  <tbody>\n",
       "    <tr>\n",
       "      <th>0</th>\n",
       "      <td>E06000001</td>\n",
       "      <td>Hartlepool</td>\n",
       "      <td>0</td>\n",
       "      <td>Aged under 1 year</td>\n",
       "      <td>918</td>\n",
       "    </tr>\n",
       "    <tr>\n",
       "      <th>1</th>\n",
       "      <td>E06000001</td>\n",
       "      <td>Hartlepool</td>\n",
       "      <td>1</td>\n",
       "      <td>Aged 1 year</td>\n",
       "      <td>954</td>\n",
       "    </tr>\n",
       "    <tr>\n",
       "      <th>2</th>\n",
       "      <td>E06000001</td>\n",
       "      <td>Hartlepool</td>\n",
       "      <td>2</td>\n",
       "      <td>Aged 2 years</td>\n",
       "      <td>1046</td>\n",
       "    </tr>\n",
       "    <tr>\n",
       "      <th>3</th>\n",
       "      <td>E06000001</td>\n",
       "      <td>Hartlepool</td>\n",
       "      <td>3</td>\n",
       "      <td>Aged 3 years</td>\n",
       "      <td>988</td>\n",
       "    </tr>\n",
       "    <tr>\n",
       "      <th>4</th>\n",
       "      <td>E06000001</td>\n",
       "      <td>Hartlepool</td>\n",
       "      <td>4</td>\n",
       "      <td>Aged 4 years</td>\n",
       "      <td>1077</td>\n",
       "    </tr>\n",
       "  </tbody>\n",
       "</table>\n",
       "</div>"
      ],
      "text/plain": [
       "  Lower tier local authorities Code Lower tier local authorities  \\\n",
       "0                         E06000001                   Hartlepool   \n",
       "1                         E06000001                   Hartlepool   \n",
       "2                         E06000001                   Hartlepool   \n",
       "3                         E06000001                   Hartlepool   \n",
       "4                         E06000001                   Hartlepool   \n",
       "\n",
       "   Age (101 categories) Code Age (101 categories)  Observation  \n",
       "0                          0    Aged under 1 year          918  \n",
       "1                          1          Aged 1 year          954  \n",
       "2                          2         Aged 2 years         1046  \n",
       "3                          3         Aged 3 years          988  \n",
       "4                          4         Aged 4 years         1077  "
      ]
     },
     "execution_count": 2,
     "metadata": {},
     "output_type": "execute_result"
    }
   ],
   "source": [
    "# Data is from the 2021 Census. Downloaded from ons.gov.uk/\n",
    "# From the download page:\n",
    "#       This dataset provides 2021 Census estimates that classify all usual residents \n",
    "#       in England and Wales by age. The estimates are as at census day, 21 March 2021.\n",
    "data_path = OXFORD_DATA_DIR / 'one-year-bin-width.csv'\n",
    "data = pd.read_csv(data_path)\n",
    "data.head()"
   ]
  },
  {
   "cell_type": "code",
   "execution_count": 3,
   "metadata": {},
   "outputs": [
    {
     "data": {
      "text/html": [
       "<div>\n",
       "<style scoped>\n",
       "    .dataframe tbody tr th:only-of-type {\n",
       "        vertical-align: middle;\n",
       "    }\n",
       "\n",
       "    .dataframe tbody tr th {\n",
       "        vertical-align: top;\n",
       "    }\n",
       "\n",
       "    .dataframe thead th {\n",
       "        text-align: right;\n",
       "    }\n",
       "</style>\n",
       "<table border=\"1\" class=\"dataframe\">\n",
       "  <thead>\n",
       "    <tr style=\"text-align: right;\">\n",
       "      <th></th>\n",
       "      <th>local_authority</th>\n",
       "      <th>age</th>\n",
       "      <th>bins</th>\n",
       "      <th>frequency</th>\n",
       "    </tr>\n",
       "  </thead>\n",
       "  <tbody>\n",
       "    <tr>\n",
       "      <th>0</th>\n",
       "      <td>Hartlepool</td>\n",
       "      <td>0</td>\n",
       "      <td>Aged under 1 year</td>\n",
       "      <td>918</td>\n",
       "    </tr>\n",
       "    <tr>\n",
       "      <th>1</th>\n",
       "      <td>Hartlepool</td>\n",
       "      <td>1</td>\n",
       "      <td>Aged 1 year</td>\n",
       "      <td>954</td>\n",
       "    </tr>\n",
       "    <tr>\n",
       "      <th>2</th>\n",
       "      <td>Hartlepool</td>\n",
       "      <td>2</td>\n",
       "      <td>Aged 2 years</td>\n",
       "      <td>1046</td>\n",
       "    </tr>\n",
       "    <tr>\n",
       "      <th>3</th>\n",
       "      <td>Hartlepool</td>\n",
       "      <td>3</td>\n",
       "      <td>Aged 3 years</td>\n",
       "      <td>988</td>\n",
       "    </tr>\n",
       "    <tr>\n",
       "      <th>4</th>\n",
       "      <td>Hartlepool</td>\n",
       "      <td>4</td>\n",
       "      <td>Aged 4 years</td>\n",
       "      <td>1077</td>\n",
       "    </tr>\n",
       "  </tbody>\n",
       "</table>\n",
       "</div>"
      ],
      "text/plain": [
       "  local_authority  age               bins  frequency\n",
       "0      Hartlepool    0  Aged under 1 year        918\n",
       "1      Hartlepool    1        Aged 1 year        954\n",
       "2      Hartlepool    2       Aged 2 years       1046\n",
       "3      Hartlepool    3       Aged 3 years        988\n",
       "4      Hartlepool    4       Aged 4 years       1077"
      ]
     },
     "execution_count": 3,
     "metadata": {},
     "output_type": "execute_result"
    }
   ],
   "source": [
    "# Tidy up dataframe\n",
    "data = data.drop(\n",
    "    columns=[\"Lower tier local authorities Code\"]\n",
    ")\n",
    "data.columns = [\"local_authority\", \"age\", \"bins\", \"frequency\"]\n",
    "data.head()"
   ]
  },
  {
   "cell_type": "code",
   "execution_count": 4,
   "metadata": {},
   "outputs": [
    {
     "data": {
      "text/plain": [
       "['Oxford', 'South Oxfordshire', 'West Oxfordshire']"
      ]
     },
     "execution_count": 4,
     "metadata": {},
     "output_type": "execute_result"
    }
   ],
   "source": [
    "# Find oxford LAs\n",
    "[x for x in data['local_authority'].unique() if 'xford' in x]"
   ]
  },
  {
   "cell_type": "code",
   "execution_count": 7,
   "metadata": {},
   "outputs": [
    {
     "data": {
      "text/plain": [
       "np.int64(162039)"
      ]
     },
     "execution_count": 7,
     "metadata": {},
     "output_type": "execute_result"
    }
   ],
   "source": [
    "# Check total population of 'Oxford' LA\n",
    "data[data['local_authority'] == 'Oxford']['frequency'].sum()"
   ]
  },
  {
   "cell_type": "markdown",
   "metadata": {},
   "source": [
    "A population of ~162,000 matches that found on the Oxford City council [webpage](https://www.oxford.gov.uk/downloads/file/1356/census-2021-population-and-household-estimates-summary-report#:~:text=According%20to%20the%20Census%202021,are%20men%20and%2082%2C400%20women.&text=Between%202011%20and%202021%2C%20the,10%2C200%20residents%20in%20the%20city)"
   ]
  },
  {
   "cell_type": "code",
   "execution_count": 26,
   "metadata": {},
   "outputs": [
    {
     "data": {
      "text/html": [
       "<div>\n",
       "<style scoped>\n",
       "    .dataframe tbody tr th:only-of-type {\n",
       "        vertical-align: middle;\n",
       "    }\n",
       "\n",
       "    .dataframe tbody tr th {\n",
       "        vertical-align: top;\n",
       "    }\n",
       "\n",
       "    .dataframe thead th {\n",
       "        text-align: right;\n",
       "    }\n",
       "</style>\n",
       "<table border=\"1\" class=\"dataframe\">\n",
       "  <thead>\n",
       "    <tr style=\"text-align: right;\">\n",
       "      <th></th>\n",
       "      <th>local_authority</th>\n",
       "      <th>age</th>\n",
       "      <th>bins</th>\n",
       "      <th>frequency</th>\n",
       "    </tr>\n",
       "  </thead>\n",
       "  <tbody>\n",
       "    <tr>\n",
       "      <th>18786</th>\n",
       "      <td>Oxford</td>\n",
       "      <td>0</td>\n",
       "      <td>Aged under 1 year</td>\n",
       "      <td>1382</td>\n",
       "    </tr>\n",
       "    <tr>\n",
       "      <th>18787</th>\n",
       "      <td>Oxford</td>\n",
       "      <td>1</td>\n",
       "      <td>Aged 1 year</td>\n",
       "      <td>1476</td>\n",
       "    </tr>\n",
       "    <tr>\n",
       "      <th>18788</th>\n",
       "      <td>Oxford</td>\n",
       "      <td>2</td>\n",
       "      <td>Aged 2 years</td>\n",
       "      <td>1458</td>\n",
       "    </tr>\n",
       "    <tr>\n",
       "      <th>18789</th>\n",
       "      <td>Oxford</td>\n",
       "      <td>3</td>\n",
       "      <td>Aged 3 years</td>\n",
       "      <td>1334</td>\n",
       "    </tr>\n",
       "    <tr>\n",
       "      <th>18790</th>\n",
       "      <td>Oxford</td>\n",
       "      <td>4</td>\n",
       "      <td>Aged 4 years</td>\n",
       "      <td>1487</td>\n",
       "    </tr>\n",
       "  </tbody>\n",
       "</table>\n",
       "</div>"
      ],
      "text/plain": [
       "      local_authority  age               bins  frequency\n",
       "18786          Oxford    0  Aged under 1 year       1382\n",
       "18787          Oxford    1        Aged 1 year       1476\n",
       "18788          Oxford    2       Aged 2 years       1458\n",
       "18789          Oxford    3       Aged 3 years       1334\n",
       "18790          Oxford    4       Aged 4 years       1487"
      ]
     },
     "execution_count": 26,
     "metadata": {},
     "output_type": "execute_result"
    }
   ],
   "source": [
    "# Tidy up dataframe\n",
    "oxford = data[data['local_authority'] == 'Oxford'].copy()\n",
    "oxford.head()"
   ]
  },
  {
   "cell_type": "markdown",
   "metadata": {},
   "source": [
    "Because the data we have is binned in widths of one year (except at the higher end age ≥ 100, though this contributes only ~ 27 / 162,000 < 0.02 % of the population), we can construct the age distribution by simply multiplying each age by its frequency and taking the median of the result. "
   ]
  },
  {
   "cell_type": "code",
   "execution_count": 10,
   "metadata": {},
   "outputs": [
    {
     "name": "stdout",
     "output_type": "stream",
     "text": [
      "Median age in Oxford: 31.0\n"
     ]
    }
   ],
   "source": [
    "age_dist = []\n",
    "for age, freq in zip(oxford['age'].values, oxford['frequency'].values):\n",
    "    age_dist += [age] * freq\n",
    "    \n",
    "print(f\"Median age in Oxford: {np.median(age_dist)}\")"
   ]
  },
  {
   "cell_type": "markdown",
   "metadata": {},
   "source": [
    "One thing to be careful with is that Oxford has a large student population, which will bring the median down. We can see this by plotting the distribution – there is a spike from around 18–24, which is usual university age. "
   ]
  },
  {
   "cell_type": "code",
   "execution_count": 57,
   "metadata": {},
   "outputs": [
    {
     "data": {
      "text/plain": [
       "Text(0.5, 1.0, 'Age distribution of Oxford')"
      ]
     },
     "execution_count": 57,
     "metadata": {},
     "output_type": "execute_result"
    },
    {
     "data": {
      "image/png": "[encoded data removed]",
      "text/plain": [
       "<Figure size 1200x400 with 1 Axes>"
      ]
     },
     "metadata": {},
     "output_type": "display_data"
    }
   ],
   "source": [
    "fig, ax = plt.subplots(figsize=(12,4))\n",
    "ax.bar(oxford['bins'].values, oxford['frequency'].values, alpha=0.7)\n",
    "# Hiding every other x label to avoid crowding\n",
    "for index, label in enumerate(ax.xaxis.get_ticklabels()):\n",
    "    if index % 2 != 0:\n",
    "        label.set_visible(False)\n",
    "ax.tick_params(axis=\"x\", labelrotation=90)\n",
    "ax.set_ylabel(\"Frequency\")\n",
    "ax.set_title(\"Age distribution of Oxford\");"
   ]
  },
  {
   "cell_type": "markdown",
   "metadata": {},
   "source": [
    "To check for this, we can do the same as above for the other LAs and compare the Oxford result with them to see if it is an outlier."
   ]
  },
  {
   "cell_type": "code",
   "execution_count": 38,
   "metadata": {},
   "outputs": [
    {
     "name": "stderr",
     "output_type": "stream",
     "text": [
      "/var/folders/wb/5h7cs7g51ts3ndjm9x6xjjcr0000gn/T/ipykernel_99195/3007074311.py:17: FutureWarning: The behavior of DataFrame concatenation with empty or all-NA entries is deprecated. In a future version, this will no longer exclude empty or all-NA columns when determining the result dtypes. To retain the old behavior, exclude the relevant entries before the concat operation.\n",
      "  medians = pd.concat([medians, la_df])\n"
     ]
    },
    {
     "data": {
      "text/html": [
       "<div>\n",
       "<style scoped>\n",
       "    .dataframe tbody tr th:only-of-type {\n",
       "        vertical-align: middle;\n",
       "    }\n",
       "\n",
       "    .dataframe tbody tr th {\n",
       "        vertical-align: top;\n",
       "    }\n",
       "\n",
       "    .dataframe thead th {\n",
       "        text-align: right;\n",
       "    }\n",
       "</style>\n",
       "<table border=\"1\" class=\"dataframe\">\n",
       "  <thead>\n",
       "    <tr style=\"text-align: right;\">\n",
       "      <th></th>\n",
       "      <th>local_authority</th>\n",
       "      <th>median_age</th>\n",
       "    </tr>\n",
       "  </thead>\n",
       "  <tbody>\n",
       "    <tr>\n",
       "      <th>0</th>\n",
       "      <td>Hartlepool</td>\n",
       "      <td>42.0</td>\n",
       "    </tr>\n",
       "    <tr>\n",
       "      <th>0</th>\n",
       "      <td>Middlesbrough</td>\n",
       "      <td>37.0</td>\n",
       "    </tr>\n",
       "    <tr>\n",
       "      <th>0</th>\n",
       "      <td>Redcar and Cleveland</td>\n",
       "      <td>46.0</td>\n",
       "    </tr>\n",
       "    <tr>\n",
       "      <th>0</th>\n",
       "      <td>Stockton-on-Tees</td>\n",
       "      <td>41.0</td>\n",
       "    </tr>\n",
       "    <tr>\n",
       "      <th>0</th>\n",
       "      <td>Darlington</td>\n",
       "      <td>43.0</td>\n",
       "    </tr>\n",
       "  </tbody>\n",
       "</table>\n",
       "</div>"
      ],
      "text/plain": [
       "        local_authority  median_age\n",
       "0            Hartlepool        42.0\n",
       "0         Middlesbrough        37.0\n",
       "0  Redcar and Cleveland        46.0\n",
       "0      Stockton-on-Tees        41.0\n",
       "0            Darlington        43.0"
      ]
     },
     "execution_count": 38,
     "metadata": {},
     "output_type": "execute_result"
    }
   ],
   "source": [
    "medians = pd.DataFrame(columns=['local_authority', 'median_age'])\n",
    "local_authorities = data['local_authority'].unique()\n",
    "\n",
    "for local_authority in local_authorities:\n",
    "    la_data = data[data['local_authority'] == local_authority].copy()\n",
    "    \n",
    "    la_dist = []\n",
    "    for age, freq in zip(la_data[\"age\"].values, la_data[\"frequency\"].values):\n",
    "        la_dist += [age] * freq\n",
    "    \n",
    "    la_median = np.median(la_dist)\n",
    "    la_df = pd.DataFrame(\n",
    "        {'local_authority': [local_authority], \n",
    "         'median_age': [la_median]}\n",
    "        )\n",
    "    \n",
    "    medians = pd.concat([medians, la_df])\n",
    "medians.head()"
   ]
  },
  {
   "cell_type": "code",
   "execution_count": 39,
   "metadata": {},
   "outputs": [
    {
     "data": {
      "text/html": [
       "<div>\n",
       "<style scoped>\n",
       "    .dataframe tbody tr th:only-of-type {\n",
       "        vertical-align: middle;\n",
       "    }\n",
       "\n",
       "    .dataframe tbody tr th {\n",
       "        vertical-align: top;\n",
       "    }\n",
       "\n",
       "    .dataframe thead th {\n",
       "        text-align: right;\n",
       "    }\n",
       "</style>\n",
       "<table border=\"1\" class=\"dataframe\">\n",
       "  <thead>\n",
       "    <tr style=\"text-align: right;\">\n",
       "      <th></th>\n",
       "      <th>median_age</th>\n",
       "    </tr>\n",
       "  </thead>\n",
       "  <tbody>\n",
       "    <tr>\n",
       "      <th>count</th>\n",
       "      <td>331.000000</td>\n",
       "    </tr>\n",
       "    <tr>\n",
       "      <th>mean</th>\n",
       "      <td>42.066465</td>\n",
       "    </tr>\n",
       "    <tr>\n",
       "      <th>std</th>\n",
       "      <td>4.893576</td>\n",
       "    </tr>\n",
       "    <tr>\n",
       "      <th>min</th>\n",
       "      <td>30.000000</td>\n",
       "    </tr>\n",
       "    <tr>\n",
       "      <th>25%</th>\n",
       "      <td>39.000000</td>\n",
       "    </tr>\n",
       "    <tr>\n",
       "      <th>50%</th>\n",
       "      <td>42.000000</td>\n",
       "    </tr>\n",
       "    <tr>\n",
       "      <th>75%</th>\n",
       "      <td>46.000000</td>\n",
       "    </tr>\n",
       "    <tr>\n",
       "      <th>max</th>\n",
       "      <td>54.000000</td>\n",
       "    </tr>\n",
       "  </tbody>\n",
       "</table>\n",
       "</div>"
      ],
      "text/plain": [
       "       median_age\n",
       "count  331.000000\n",
       "mean    42.066465\n",
       "std      4.893576\n",
       "min     30.000000\n",
       "25%     39.000000\n",
       "50%     42.000000\n",
       "75%     46.000000\n",
       "max     54.000000"
      ]
     },
     "execution_count": 39,
     "metadata": {},
     "output_type": "execute_result"
    }
   ],
   "source": [
    "medians.describe()"
   ]
  },
  {
   "cell_type": "markdown",
   "metadata": {},
   "source": [
    "The average median for England and Wales as a whole is about 42, so it looks as though the student population in Oxford does have a significant impact on the median. If we plot the youngest ten local authorities, we see that Oxford in fact has the second youngest population by median, with other university towns (for example, Manchester, Nottingham and Cambridge) also present.  "
   ]
  },
  {
   "cell_type": "code",
   "execution_count": 56,
   "metadata": {},
   "outputs": [
    {
     "data": {
      "image/png": "[encoded data removed]",
      "text/plain": [
       "<Figure size 1200x400 with 1 Axes>"
      ]
     },
     "metadata": {},
     "output_type": "display_data"
    }
   ],
   "source": [
    "fig, ax = plt.subplots(figsize=(12,4))\n",
    "\n",
    "plotting_data = medians.sort_values(by='median_age').copy().iloc[:10]\n",
    "ax.bar(plotting_data[\"local_authority\"].values, plotting_data[\"median_age\"].values, alpha=0.7)\n",
    "ax.tick_params(axis=\"x\", labelrotation=90)\n",
    "ax.set_ylabel(\"Median age (years)\")\n",
    "ax.set_title(\"Median ages for ten youngest local authorities in England and Wales\")\n",
    "ax.get_children()[1].set_color('orange');"
   ]
  },
  {
   "cell_type": "markdown",
   "metadata": {},
   "source": [
    "To obtain a more comprehensive understanding of the median, we could calculate an adjusted median by\n",
    "    \n",
    "1. assuming that all students in Oxford are aged 18-24 and\n",
    "2. subtracting the number of students from the appropriate bin frequencies before calculating the new median. \n",
    "\n",
    "One limitation is that some students may be outside the range 18-24, but the approach would still give us a good estimate of the median age of longer-term residents. A further simplification that could be made is that the number of students is evenly distributed across the 18-24 age band. This is unlikely to be true as students drop out before completing their studies, so there may be fewer 24-year-old students than 18-year-old students, but would suffice for a rough estimate."
   ]
  }
 ],
 "metadata": {
  "kernelspec": {
   "display_name": ".venv",
   "language": "python",
   "name": "python3"
  },
  "language_info": {
   "codemirror_mode": {
    "name": "ipython",
    "version": 3
   },
   "file_extension": ".py",
   "mimetype": "text/x-python",
   "name": "python",
   "nbconvert_exporter": "python",
   "pygments_lexer": "ipython3",
   "version": "3.11.10"
  }
 },
 "nbformat": 4,
 "nbformat_minor": 2
}
